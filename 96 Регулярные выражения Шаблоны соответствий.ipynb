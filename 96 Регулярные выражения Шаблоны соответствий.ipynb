{
 "cells": [
  {
   "cell_type": "markdown",
   "metadata": {},
   "source": [
    "Начало строки - наш дом ^\n",
    "Конец - это деньги в нем $\n",
    "Все или ничего - вот моя звезда *\n",
    "К единице прибавь чтото и поставь крест +\n",
    "Твое будущее под вопросом ? может не навсегда\n",
    "Повторяй много раз в фигурных скобках {}\n",
    "Указывая символы в квадратных\n",
    "Что такое спец последовательность я пока не знаю\n",
    "Но когда придется выбрать между фрагментом слева или справа - поставлю вертикальную прямую |\n",
    "Для группировки как и всегда - круглые скобки будут вас ждать. ()\n",
    "\n"
   ]
  },
  {
   "cell_type": "code",
   "execution_count": 1,
   "metadata": {
    "collapsed": true
   },
   "outputs": [],
   "source": [
    "import re"
   ]
  },
  {
   "cell_type": "code",
   "execution_count": 5,
   "metadata": {},
   "outputs": [
    {
     "name": "stdout",
     "output_type": "stream",
     "text": [
      "hello\n"
     ]
    }
   ],
   "source": [
    "pattern = r'hello'\n",
    "my_string = 'hello my string'\n",
    "print(re.match(pattern, my_string).group())"
   ]
  },
  {
   "cell_type": "code",
   "execution_count": 6,
   "metadata": {
    "collapsed": true
   },
   "outputs": [],
   "source": [
    "from re import *"
   ]
  },
  {
   "cell_type": "code",
   "execution_count": 11,
   "metadata": {},
   "outputs": [
    {
     "name": "stdout",
     "output_type": "stream",
     "text": [
      "Enter your email adressserge_gam@mail.ru\n",
      "Valid Address serge_gam@mail.ru\n"
     ]
    }
   ],
   "source": [
    "pattern = \\\n",
    "compile('(^|\\s)[-a-z0-0_.]+@([-a-z0-9]+\\.)+[a-z]{2,6}(\\s|$)')\n",
    "\n",
    "def get_address():\n",
    "    address = input('Enter your email adress')\n",
    "    is_valid = pattern.match(address)\n",
    "    if is_valid :\n",
    "        print('Valid Address', is_valid.group())\n",
    "    else:\n",
    "        print('Invalid Address! Please Retry...\\n')\n",
    "get_address()"
   ]
  },
  {
   "cell_type": "code",
   "execution_count": 24,
   "metadata": {},
   "outputs": [
    {
     "name": "stdout",
     "output_type": "stream",
     "text": [
      "Yes\n"
     ]
    }
   ],
   "source": [
    "my_string = 'lalaland'\n",
    "pattern = compile('^la*')\n",
    "if pattern.match(my_string):\n",
    "    print('Yes')\n",
    "else:\n",
    "    print('No')"
   ]
  }
 ],
 "metadata": {
  "kernelspec": {
   "display_name": "Python 3",
   "language": "python",
   "name": "python3"
  },
  "language_info": {
   "codemirror_mode": {
    "name": "ipython",
    "version": 3
   },
   "file_extension": ".py",
   "mimetype": "text/x-python",
   "name": "python",
   "nbconvert_exporter": "python",
   "pygments_lexer": "ipython3",
   "version": "3.6.3"
  }
 },
 "nbformat": 4,
 "nbformat_minor": 2
}
