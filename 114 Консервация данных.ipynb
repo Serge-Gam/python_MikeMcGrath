{
 "cells": [
  {
   "cell_type": "code",
   "execution_count": 10,
   "metadata": {},
   "outputs": [
    {
     "name": "stdout",
     "output_type": "stream",
     "text": [
      "Welcome back to Wild animals, Bears\n"
     ]
    }
   ],
   "source": [
    "import pickle, os\n",
    "if not os.path.isfile('pickle.dat'):\n",
    "    data = [0, 1]\n",
    "    data[0] = input('Enter topic:')\n",
    "    data[1] = input('Enter Series:')\n",
    "    file = open('pickle.dat', 'wb') #  в двоичном формате, потому что хранится в двоичном\n",
    "    pickle.dump(data, file)\n",
    "    file.close()\n",
    "    print('File has been written')\n",
    "else:\n",
    "    file = open('pickle.dat', 'rb')\n",
    "    data = pickle.load(file)\n",
    "    file.close()\n",
    "    print('Welcome back to ' + data[0] + ', ' + data[1])"
   ]
  },
  {
   "cell_type": "code",
   "execution_count": 32,
   "metadata": {},
   "outputs": [
    {
     "name": "stdout",
     "output_type": "stream",
     "text": [
      "['Воробьев', 'Штиль', 'Шарков']\n"
     ]
    }
   ],
   "source": [
    "if not os.path.isfile('actors.dat'):\n",
    "    print('There in no such a file. We will create it right now!')\n",
    "    actors = ['Воробьев','Штиль','Шарков']\n",
    "    file = open('actors.dat','wb')\n",
    "    pickle.dump(actors, file)\n",
    "    file.close\n",
    "else:\n",
    "    file = open('actors.dat', 'rb')\n",
    "    data = pickle.load(file)\n",
    "    file.close()\n",
    "    print(data)"
   ]
  },
  {
   "cell_type": "code",
   "execution_count": 35,
   "metadata": {},
   "outputs": [
    {
     "name": "stdout",
     "output_type": "stream",
     "text": [
      "Актеры ['Воробьев', 'Штиль', 'Шарков']\n",
      "file is closed: False\n",
      "file is closed: True\n"
     ]
    }
   ],
   "source": [
    "with open('actors.dat', 'rb') as file:\n",
    "    actors = pickle.load(file)\n",
    "    print('Актеры', actors)\n",
    "    print('file is closed:', file.closed)\n",
    "print('file is closed:', file.closed)"
   ]
  },
  {
   "cell_type": "code",
   "execution_count": 38,
   "metadata": {},
   "outputs": [
    {
     "name": "stdout",
     "output_type": "stream",
     "text": [
      "Вот ваши данные: {'Я': 'Me', 'Ты': 'You', 'Он': 'He', 'Она': 'She', 'Они': 'They'}\n"
     ]
    }
   ],
   "source": [
    "if not os.path.isfile('dict.dat'):\n",
    "    rus_eng = {\"Я\":'Me', \"Ты\":'You', \"Он\":'He', \"Она\":'She', \"Они\": 'They'}\n",
    "    file = open('dict.dat', 'wb')\n",
    "    pickle.dump(rus_eng, file)\n",
    "    file.close()\n",
    "    print('File has been written')\n",
    "else:\n",
    "    file = open('dict.dat', 'rb')\n",
    "    data = pickle.load(file)\n",
    "    file.close()\n",
    "    print('Вот ваши данные:', data)"
   ]
  },
  {
   "cell_type": "code",
   "execution_count": 39,
   "metadata": {},
   "outputs": [
    {
     "name": "stdout",
     "output_type": "stream",
     "text": [
      "Файл создан\n"
     ]
    }
   ],
   "source": [
    "months = [\"Январь\", \"Февраль\", \"Март\", \"Апрель\", \"Май\", \"Июнь\", \"Июль\", \"Август\", \"Сентябрь\", \"Октябрь\", \"Ноябрь\", \"Декабрь\"]\n",
    "if not os.path.isfile('months.dat'):\n",
    "    with open('months.dat','wb') as file:\n",
    "        pickle.dump(months, file)\n",
    "        print('Файл создан')\n",
    "else:\n",
    "    print('Такой файл уже есть')\n",
    "        "
   ]
  },
  {
   "cell_type": "code",
   "execution_count": 43,
   "metadata": {},
   "outputs": [
    {
     "name": "stdout",
     "output_type": "stream",
     "text": [
      "Here is your data, Man!\n",
      "Январь\n",
      "Февраль\n",
      "Март\n",
      "Апрель\n",
      "Май\n",
      "Июнь\n",
      "Июль\n",
      "Август\n",
      "Сентябрь\n",
      "Октябрь\n",
      "Ноябрь\n",
      "Декабрь\n"
     ]
    }
   ],
   "source": [
    " with open('months.dat','rb') as file:\n",
    "        data = pickle.load(file)\n",
    "        print('Here is your data, Man!')\n",
    "        for item in data:\n",
    "            print(item)"
   ]
  },
  {
   "cell_type": "code",
   "execution_count": null,
   "metadata": {
    "collapsed": true
   },
   "outputs": [],
   "source": [
    "\"Январь\",\"Февраль\""
   ]
  }
 ],
 "metadata": {
  "kernelspec": {
   "display_name": "Python 3",
   "language": "python",
   "name": "python3"
  },
  "language_info": {
   "codemirror_mode": {
    "name": "ipython",
    "version": 3
   },
   "file_extension": ".py",
   "mimetype": "text/x-python",
   "name": "python",
   "nbconvert_exporter": "python",
   "pygments_lexer": "ipython3",
   "version": "3.6.3"
  }
 },
 "nbformat": 4,
 "nbformat_minor": 2
}
