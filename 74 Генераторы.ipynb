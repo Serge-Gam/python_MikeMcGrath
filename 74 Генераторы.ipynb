{
 "cells": [
  {
   "cell_type": "code",
   "execution_count": 44,
   "metadata": {
    "collapsed": true
   },
   "outputs": [
    {
     "name": "stdout",
     "output_type": "stream",
     "text": [
      "Generated: 1\n",
      "Generated: 1\n",
      "Generated: 2\n",
      "Generated: 3\n",
      "Generated: 5\n",
      "Generated: 8\n",
      "Generated: 13\n",
      "Generated: 21\n",
      "Generated: 34\n",
      "Generated: 55\n",
      "Generated: 89\n"
     ]
    }
   ],
   "source": [
    "def fibonacci_generator():\n",
    "    a = b = 1\n",
    "    while True:\n",
    "        yield a\n",
    "        a, b = b, a+b\n",
    "\n",
    "fib = fibonacci_generator()\n",
    "for i in fib:\n",
    "    if i>100:\n",
    "        break\n",
    "    else:\n",
    "        print('Generated:', i)"
   ]
  },
  {
   "cell_type": "code",
   "execution_count": 45,
   "metadata": {
    "collapsed": true
   },
   "outputs": [
    {
     "name": "stdout",
     "output_type": "stream",
     "text": [
      "Generated  1\n",
      "Generated  1\n",
      "Generated  2\n",
      "Generated  3\n",
      "Generated  5\n",
      "Generated  8\n",
      "Generated  13\n",
      "Generated  21\n",
      "Generated  34\n",
      "Generated  55\n",
      "Generated  89\n"
     ]
    }
   ],
   "source": [
    "def fibonacci_generator():\n",
    "    a = b = 1\n",
    "    while True:\n",
    "        yield a\n",
    "        a, b = b , a+b\n",
    "\n",
    "fib = fibonacci_generator()\n",
    "for i in fib:\n",
    "    if i<100: #и тут мне пришла в голову мысть что я думаю inside the box (исходим из того что имеем)\n",
    "        print('Generated ',i)\n",
    "    else:\n",
    "        break"
   ]
  },
  {
   "cell_type": "code",
   "execution_count": 46,
   "metadata": {
    "collapsed": true
   },
   "outputs": [
    {
     "name": "stdout",
     "output_type": "stream",
     "text": [
      "Generated  1\n",
      "Generated  1\n",
      "Generated  2\n",
      "Generated  3\n",
      "Generated  5\n",
      "Generated  8\n",
      "Generated  13\n",
      "Generated  21\n",
      "Generated  34\n",
      "Generated  55\n",
      "Generated  89\n"
     ]
    }
   ],
   "source": [
    "#перепишем цикл в стиле outside the box:\n",
    "fib = fibonacci_generator()\n",
    "for i in fib:\n",
    "    if i>100:\n",
    "        break\n",
    "    else:\n",
    "        print('Generated ',i)\n",
    "        "
   ]
  },
  {
   "cell_type": "code",
   "execution_count": 47,
   "metadata": {},
   "outputs": [
    {
     "name": "stdout",
     "output_type": "stream",
     "text": [
      "[1, 1, 2, 3, 5, 8, 13, 21, 34, 55]\n"
     ]
    }
   ],
   "source": [
    "fib = fibonacci_generator()\n",
    "\n",
    "import itertools\n",
    "print(list(itertools.islice(fib, 10)))\n"
   ]
  },
  {
   "cell_type": "markdown",
   "metadata": {},
   "source": [
    "### Проработаем next()"
   ]
  },
  {
   "cell_type": "code",
   "execution_count": 34,
   "metadata": {},
   "outputs": [],
   "source": [
    "# https://stackoverflow.com/questions/1756096/understanding-generators-in-python#1756156\n",
    "# есть свой  exeption: StopIteration (signalling that all vlaues has been generated)\n",
    "def my_gen(a):\n",
    "    yield a\n",
    "    yield a+1\n",
    "\n",
    "g = my_gen(6)"
   ]
  },
  {
   "cell_type": "code",
   "execution_count": 37,
   "metadata": {},
   "outputs": [
    {
     "ename": "StopIteration",
     "evalue": "",
     "output_type": "error",
     "traceback": [
      "\u001b[0;31m---------------------------------------------------------------------------\u001b[0m",
      "\u001b[0;31mStopIteration\u001b[0m                             Traceback (most recent call last)",
      "\u001b[0;32m<ipython-input-37-5f315c5de15b>\u001b[0m in \u001b[0;36m<module>\u001b[0;34m()\u001b[0m\n\u001b[0;32m----> 1\u001b[0;31m \u001b[0mnext\u001b[0m\u001b[0;34m(\u001b[0m\u001b[0mg\u001b[0m\u001b[0;34m)\u001b[0m\u001b[0;34m\u001b[0m\u001b[0m\n\u001b[0m",
      "\u001b[0;31mStopIteration\u001b[0m: "
     ]
    }
   ],
   "source": [
    "next(g)"
   ]
  },
  {
   "cell_type": "code",
   "execution_count": 40,
   "metadata": {},
   "outputs": [
    {
     "name": "stdout",
     "output_type": "stream",
     "text": [
      "6\n",
      "7\n",
      "\n"
     ]
    }
   ],
   "source": [
    "def my_gen(a):\n",
    "    yield a\n",
    "    yield a+1\n",
    "\n",
    "g = my_gen(6)\n",
    "while True:\n",
    "    try:\n",
    "        print(next(g))\n",
    "    except StopIteration as msg:\n",
    "        print(msg)\n",
    "        break    "
   ]
  },
  {
   "cell_type": "code",
   "execution_count": null,
   "metadata": {
    "collapsed": true
   },
   "outputs": [],
   "source": [
    "# генератор доходит до первого крика и ждет следующего вызова\n",
    "# теоретически с него можно управлять таймлайном или автоматизировать проведение спетакля\n",
    "# с помощью функции yield выкрикивать следующее действие\n",
    "# а может быть и ветки диалогов можно с помощью него реализовать\n"
   ]
  },
  {
   "cell_type": "code",
   "execution_count": 49,
   "metadata": {},
   "outputs": [
    {
     "data": {
      "text/plain": [
       "3"
      ]
     },
     "execution_count": 49,
     "metadata": {},
     "output_type": "execute_result"
    }
   ],
   "source": [
    "#а можно вот так задавать генератор - genereator expressions\n",
    "g = (n for n in range(3,5))\n",
    "next(g)"
   ]
  },
  {
   "cell_type": "code",
   "execution_count": 51,
   "metadata": {},
   "outputs": [
    {
     "ename": "StopIteration",
     "evalue": "",
     "output_type": "error",
     "traceback": [
      "\u001b[0;31m---------------------------------------------------------------------------\u001b[0m",
      "\u001b[0;31mStopIteration\u001b[0m                             Traceback (most recent call last)",
      "\u001b[0;32m<ipython-input-51-5f315c5de15b>\u001b[0m in \u001b[0;36m<module>\u001b[0;34m()\u001b[0m\n\u001b[0;32m----> 1\u001b[0;31m \u001b[0mnext\u001b[0m\u001b[0;34m(\u001b[0m\u001b[0mg\u001b[0m\u001b[0;34m)\u001b[0m\u001b[0;34m\u001b[0m\u001b[0m\n\u001b[0m",
      "\u001b[0;31mStopIteration\u001b[0m: "
     ]
    }
   ],
   "source": [
    "next(g)"
   ]
  },
  {
   "cell_type": "code",
   "execution_count": 52,
   "metadata": {},
   "outputs": [
    {
     "data": {
      "text/plain": [
       "[3, 4]"
      ]
     },
     "execution_count": 52,
     "metadata": {},
     "output_type": "execute_result"
    }
   ],
   "source": [
    "#этот способ похож на list comprehentions\n",
    "lc = [n for n in range(3,5)]\n",
    "lc"
   ]
  },
  {
   "cell_type": "code",
   "execution_count": 61,
   "metadata": {},
   "outputs": [
    {
     "name": "stdout",
     "output_type": "stream",
     "text": [
      "45\n",
      "45\n"
     ]
    }
   ],
   "source": [
    "#для того чтобы не удалять списки после использования\n",
    "print(sum([x for x in range(10)]))\n",
    "\n",
    "#а можно генераором\n",
    "print(sum(x for x in range(10)))"
   ]
  },
  {
   "cell_type": "code",
   "execution_count": 58,
   "metadata": {},
   "outputs": [
    {
     "name": "stdout",
     "output_type": "stream",
     "text": [
      "Tue, 20 Mar 2018 09:15:45\n",
      "Tue, 20 Mar 2018 09:15:45\n"
     ]
    }
   ],
   "source": [
    "# The generator encapsulates an infinite loop, but this isn't\n",
    "# a problem because you only get each answer every time you ask for it.\n",
    "\n",
    "from time import gmtime, strftime\n",
    "def my_gen():\n",
    "    yield print(strftime('%a, %d %b %Y %H:%M:%S', gmtime()))\n",
    "my_date = my_gen()\n",
    "next(my_date)\n",
    "\n",
    "#не совсем понятно зачем тут использовать генератор, но да. Это можно сделать.\n",
    "print(strftime('%a, %d %b %Y %H:%M:%S', gmtime()))"
   ]
  },
  {
   "cell_type": "code",
   "execution_count": null,
   "metadata": {
    "collapsed": true
   },
   "outputs": [],
   "source": []
  }
 ],
 "metadata": {
  "kernelspec": {
   "display_name": "Python 3",
   "language": "python",
   "name": "python3"
  },
  "language_info": {
   "codemirror_mode": {
    "name": "ipython",
    "version": 3
   },
   "file_extension": ".py",
   "mimetype": "text/x-python",
   "name": "python",
   "nbconvert_exporter": "python",
   "pygments_lexer": "ipython3",
   "version": "3.6.3"
  }
 },
 "nbformat": 4,
 "nbformat_minor": 2
}
