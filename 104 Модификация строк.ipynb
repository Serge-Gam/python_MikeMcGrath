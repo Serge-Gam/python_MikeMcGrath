{
 "cells": [
  {
   "cell_type": "code",
   "execution_count": 15,
   "metadata": {},
   "outputs": [
    {
     "name": "stdout",
     "output_type": "stream",
     "text": [
      "new two\n"
     ]
    }
   ],
   "source": [
    "one = 'new'\n",
    "two = ' two'\n",
    "two.strip()\n",
    "one_two = one+two\n",
    "print(one_two)"
   ]
  },
  {
   "cell_type": "code",
   "execution_count": 21,
   "metadata": {},
   "outputs": [
    {
     "name": "stdout",
     "output_type": "stream",
     "text": [
      "-1\n"
     ]
    }
   ],
   "source": [
    "print('milk'.find('g'))"
   ]
  },
  {
   "cell_type": "code",
   "execution_count": 27,
   "metadata": {},
   "outputs": [
    {
     "name": "stdout",
     "output_type": "stream",
     "text": [
      "True\n",
      "True\n",
      "True\n"
     ]
    }
   ],
   "source": [
    "print('123'.isnumeric())\n",
    "print('nin'.isalpha())\n",
    "print('123kjlkdfs'.isalnum())"
   ]
  },
  {
   "cell_type": "code",
   "execution_count": 31,
   "metadata": {},
   "outputs": [
    {
     "name": "stdout",
     "output_type": "stream",
     "text": [
      "True\n"
     ]
    }
   ],
   "source": [
    "print('123jkjk'.startswith('12'))"
   ]
  },
  {
   "cell_type": "code",
   "execution_count": 32,
   "metadata": {},
   "outputs": [
    {
     "name": "stdout",
     "output_type": "stream",
     "text": [
      "Capitalised: PYTHON IN EASY STEPS\n",
      "Titled: Python In Easy Steps\n",
      "Centered: *****python in easy steps*****\n"
     ]
    }
   ],
   "source": [
    "string = 'python in easy steps'\n",
    "print('Capitalised:', string.upper())\n",
    "print('Titled:', string.title())\n",
    "print('Centered:', string.center(30,'*'))"
   ]
  },
  {
   "cell_type": "code",
   "execution_count": 41,
   "metadata": {},
   "outputs": [
    {
     "name": "stdout",
     "output_type": "stream",
     "text": [
      "Upper: PYTHON IN EASY STEPS\n",
      "Joined*: *python in easy steps*\n"
     ]
    }
   ],
   "source": [
    "print('Upper:', string.upper())\n",
    "print('Joined*:', string.join('**'))"
   ]
  },
  {
   "cell_type": "code",
   "execution_count": 42,
   "metadata": {},
   "outputs": [
    {
     "name": "stdout",
     "output_type": "stream",
     "text": [
      "Replaced: python in ea*y *tep*\n"
     ]
    }
   ],
   "source": [
    "print('Replaced:', string.replace('s','*'))"
   ]
  },
  {
   "cell_type": "code",
   "execution_count": 46,
   "metadata": {},
   "outputs": [
    {
     "name": "stdout",
     "output_type": "stream",
     "text": [
      "Выравнивание слева\n",
      "\n",
      "*******************Я вас любил\n",
      "*********Любовь еще быть может\n",
      "**В душе моей угасла не совсем\n"
     ]
    }
   ],
   "source": [
    "print('Выравнивание слева\\n')\n",
    "\n",
    "print('Я вас любил'.rjust(30,'*'))\n",
    "print('Любовь еще быть может'.rjust(30, '*'))\n",
    "print('В душе моей угасла не совсем'.rjust(30, '*'))\n"
   ]
  }
 ],
 "metadata": {
  "kernelspec": {
   "display_name": "Python 3",
   "language": "python",
   "name": "python3"
  },
  "language_info": {
   "codemirror_mode": {
    "name": "ipython",
    "version": 3
   },
   "file_extension": ".py",
   "mimetype": "text/x-python",
   "name": "python",
   "nbconvert_exporter": "python",
   "pygments_lexer": "ipython3",
   "version": "3.6.3"
  }
 },
 "nbformat": 4,
 "nbformat_minor": 2
}
