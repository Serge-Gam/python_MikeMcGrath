{
 "cells": [
  {
   "cell_type": "code",
   "execution_count": 4,
   "metadata": {},
   "outputs": [
    {
     "name": "stdout",
     "output_type": "stream",
     "text": [
      "name 'titlel' is not defined\n"
     ]
    }
   ],
   "source": [
    "title = 'Python in easy steps'\n",
    "try:\n",
    "    print(titlel)\n",
    "except NameError as msg:\n",
    "    print(msg)"
   ]
  },
  {
   "cell_type": "code",
   "execution_count": 6,
   "metadata": {},
   "outputs": [
    {
     "name": "stdout",
     "output_type": "stream",
     "text": [
      "('The Program found An', ValueError('Invalid Day Number',))\n",
      "But today is beautiful anyway\n"
     ]
    }
   ],
   "source": [
    "day = 32\n",
    "try:\n",
    "    if day > 31:\n",
    "        raise ValueError('Invalid Day Number')\n",
    "    #сюда добавляем операторы\n",
    "except ValueError as msg:\n",
    "    print('The Program found An', msg)\n",
    "finally:\n",
    "    print('But today is beautiful anyway')"
   ]
  }
 ],
 "metadata": {
  "kernelspec": {
   "display_name": "Python 3",
   "language": "python",
   "name": "python3"
  },
  "language_info": {
   "codemirror_mode": {
    "name": "ipython",
    "version": 3
   },
   "file_extension": ".py",
   "mimetype": "text/x-python",
   "name": "python",
   "nbconvert_exporter": "python",
   "pygments_lexer": "ipython3",
   "version": "3.6.3"
  }
 },
 "nbformat": 4,
 "nbformat_minor": 2
}
