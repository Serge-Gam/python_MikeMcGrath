{
 "cells": [
  {
   "cell_type": "code",
   "execution_count": 1,
   "metadata": {},
   "outputs": [
    {
     "name": "stdout",
     "output_type": "stream",
     "text": [
      "I never saw a man who looked\n",
      "\n",
      "With such a wistfull eye\n",
      "\n",
      "Upon that little tent of blue\n",
      "\n",
      "Which prisoners call the sky\n",
      "\n"
     ]
    }
   ],
   "source": [
    "poem = 'I never saw a man who looked\\n'\n",
    "poem += 'With such a wistfull eye\\n'\n",
    "poem += 'Upon that little tent of blue\\n'\n",
    "poem += 'Which prisoners call the sky\\n'\n",
    "\n",
    "file = open('poem.txt', 'w')\n",
    "file.write(poem)\n",
    "file.close()\n",
    "file = open('poem.txt', 'r')\n",
    "for line in file:\n",
    "    print(line)\n",
    "file.close()\n"
   ]
  },
  {
   "cell_type": "code",
   "execution_count": 2,
   "metadata": {
    "collapsed": true
   },
   "outputs": [],
   "source": [
    "file = open('poem.txt','a')\n",
    "file.write('(Oscar Wilde)')\n",
    "file.close()\n"
   ]
  },
  {
   "cell_type": "code",
   "execution_count": 4,
   "metadata": {},
   "outputs": [
    {
     "name": "stdout",
     "output_type": "stream",
     "text": [
      "With such a wistfull eye\n",
      "\n"
     ]
    }
   ],
   "source": [
    "file = open('poem.txt','r')\n",
    "print(file.readlines()[1])"
   ]
  }
 ],
 "metadata": {
  "kernelspec": {
   "display_name": "Python 3",
   "language": "python",
   "name": "python3"
  },
  "language_info": {
   "codemirror_mode": {
    "name": "ipython",
    "version": 3
   },
   "file_extension": ".py",
   "mimetype": "text/x-python",
   "name": "python",
   "nbconvert_exporter": "python",
   "pygments_lexer": "ipython3",
   "version": "3.6.3"
  }
 },
 "nbformat": 4,
 "nbformat_minor": 2
}
