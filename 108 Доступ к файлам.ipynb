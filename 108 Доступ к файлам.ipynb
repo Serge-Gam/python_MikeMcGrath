{
 "cells": [
  {
   "cell_type": "code",
   "execution_count": 12,
   "metadata": {},
   "outputs": [
    {
     "name": "stdout",
     "output_type": "stream",
     "text": [
      "File name: example.txt\n",
      "File mode: w\n",
      "Readable: False\n",
      "Writable: True\n",
      "File status: Open\n",
      "File status: Closed\n"
     ]
    }
   ],
   "source": [
    "file = open('example.txt','w')\n",
    "print('File name:', file.name)\n",
    "print('File mode:', file.mode)\n",
    "print('Readable:', file.readable())\n",
    "print('Writable:', file.writable())\n",
    "\n",
    "def get_status(file):\n",
    "    if file.closed != False:\n",
    "        return 'Closed'\n",
    "    else:\n",
    "        return 'Open'\n",
    "\n",
    "print('File status:', get_status(file))\n",
    "file.close()\n",
    "print('File status:', get_status(file))"
   ]
  }
 ],
 "metadata": {
  "kernelspec": {
   "display_name": "Python 3",
   "language": "python",
   "name": "python3"
  },
  "language_info": {
   "codemirror_mode": {
    "name": "ipython",
    "version": 3
   },
   "file_extension": ".py",
   "mimetype": "text/x-python",
   "name": "python",
   "nbconvert_exporter": "python",
   "pygments_lexer": "ipython3",
   "version": "3.6.3"
  }
 },
 "nbformat": 4,
 "nbformat_minor": 2
}
