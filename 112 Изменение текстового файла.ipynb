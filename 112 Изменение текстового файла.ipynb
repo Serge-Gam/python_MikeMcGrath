{
 "cells": [
  {
   "cell_type": "code",
   "execution_count": 3,
   "metadata": {},
   "outputs": [
    {
     "name": "stdout",
     "output_type": "stream",
     "text": [
      "Is the file cosed? False\n",
      "Is the file cosed? True\n",
      "String: The political slogan \"Workers Of The World Unite!\" is from The Communist Manifesto.\n",
      "Position in file now: 83\n",
      "\n",
      "Position been shifted.\n",
      "Position in file now: 33\n",
      "\n",
      "String: The political slogan \"Workers Of All lands Unite!\" is from the tombstone of Karl Marx.\n"
     ]
    }
   ],
   "source": [
    "text = 'The political slogan \"Workers Of The World Unite!\" is from The Communist Manifesto.'\n",
    "with open('update.txt' , 'w') as file:\n",
    "    file.write(text)\n",
    "    print('Is the file cosed?' , file.closed)\n",
    "print('Is the file cosed?' , file.closed)\n",
    "\n",
    "with open('update.txt' , 'r+') as file:\n",
    "    text = file.read()\n",
    "    print('String:' , text)\n",
    "    print('Position in file now:' , file.tell())\n",
    "    file.seek(33)\n",
    "    print('\\nPosition been shifted.\\nPosition in file now:' , file.tell())\n",
    "    file.write('All lands')\n",
    "    file.seek(59)\n",
    "    file.write('the tombstone of Karl Marx.')\n",
    "    file.seek(0)\n",
    "    text = file.read()\n",
    "    print('\\nString:' , text)"
   ]
  }
 ],
 "metadata": {
  "kernelspec": {
   "display_name": "Python 3",
   "language": "python",
   "name": "python3"
  },
  "language_info": {
   "codemirror_mode": {
    "name": "ipython",
    "version": 3
   },
   "file_extension": ".py",
   "mimetype": "text/x-python",
   "name": "python",
   "nbconvert_exporter": "python",
   "pygments_lexer": "ipython3",
   "version": "3.6.3"
  }
 },
 "nbformat": 4,
 "nbformat_minor": 2
}
