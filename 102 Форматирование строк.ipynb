{
 "cells": [
  {
   "cell_type": "code",
   "execution_count": 1,
   "metadata": {
    "collapsed": true
   },
   "outputs": [],
   "source": [
    "import dog"
   ]
  },
  {
   "cell_type": "code",
   "execution_count": 2,
   "metadata": {},
   "outputs": [
    {
     "name": "stdout",
     "output_type": "stream",
     "text": [
      "__builtins__\n",
      "__cached__\n",
      "__doc__\n",
      "__file__\n",
      "__loader__\n",
      "__name__\n",
      "__package__\n",
      "__spec__\n",
      "bark\n",
      "lick\n",
      "nap\n"
     ]
    }
   ],
   "source": [
    "for i in dir(dog):\n",
    "    print(i)"
   ]
  },
  {
   "cell_type": "code",
   "execution_count": 7,
   "metadata": {},
   "outputs": [
    {
     "name": "stdout",
     "output_type": "stream",
     "text": [
      "\n",
      "Replaced: Burger and Fries\n",
      "Replaced: Fries and Burger\n",
      "\n",
      "Substituted: Milk and Cookies\n"
     ]
    }
   ],
   "source": [
    "snack = '{} and {}'.format('Burger','Fries')\n",
    "print('\\nReplaced:', snack)\n",
    "snack = '{1} and {0}'.format('Burger','Fries')\n",
    "print('Replaced:', snack)\n",
    "snack = '%s and %s' % ('Milk', 'Cookies')\n",
    "print('\\nSubstituted:', snack)\n"
   ]
  },
  {
   "cell_type": "markdown",
   "metadata": {},
   "source": [
    "%d - для целых чисел\n",
    "%c - для символов\n",
    "%f - для "
   ]
  }
 ],
 "metadata": {
  "kernelspec": {
   "display_name": "Python 3",
   "language": "python",
   "name": "python3"
  },
  "language_info": {
   "codemirror_mode": {
    "name": "ipython",
    "version": 3
   },
   "file_extension": ".py",
   "mimetype": "text/x-python",
   "name": "python",
   "nbconvert_exporter": "python",
   "pygments_lexer": "ipython3",
   "version": "3.6.3"
  }
 },
 "nbformat": 4,
 "nbformat_minor": 2
}
