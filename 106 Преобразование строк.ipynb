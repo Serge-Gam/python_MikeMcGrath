{
 "cells": [
  {
   "cell_type": "code",
   "execution_count": 8,
   "metadata": {},
   "outputs": [
    {
     "name": "stdout",
     "output_type": "stream",
     "text": [
      "\n",
      "Red string Röd\n",
      "Type: <class 'str'> \tLength: 3\n",
      "\n",
      "Encoded String: b'R\\xc3\\xb6d'\n",
      "Type: <class 'bytes'> \n",
      "Lengh: 4\n",
      "\n",
      "Decoded String: Röd\n",
      "Type: <class 'str'> \tLength: 3\n",
      "R:LATIN CAPITAL LETTER R\n",
      "ö:LATIN SMALL LETTER O WITH DIAERESIS\n",
      "d:LATIN SMALL LETTER D\n"
     ]
    }
   ],
   "source": [
    "# ASCII - American Standart Code for Information Interchange\n",
    "s = 'Röd'\n",
    "print('\\nRed string',s)\n",
    "print('Type:',type(s),'\\tLength:',len(s))\n",
    "\n",
    "s = s.encode('utf-8')\n",
    "print('\\nEncoded String:', s)\n",
    "print('Type:', type(s), '\\nLengh:',len(s))\n",
    "\n",
    "s = s.decode('utf-8')\n",
    "print('\\nDecoded String:', s)\n",
    "print('Type:', type(s), '\\tLength:', len(s))\n",
    "\n",
    "import unicodedata\n",
    "for i in range(len(s)):\n",
    "    print(s[i], unicodedata.name(s[i]) , sep=':') \n",
    "    prosody"
   ]
  },
  {
   "cell_type": "code",
   "execution_count": 14,
   "metadata": {},
   "outputs": [
    {
     "name": "stdout",
     "output_type": "stream",
     "text": [
      "\n",
      "Green String: Grön\n",
      "Green string: Grön\n"
     ]
    }
   ],
   "source": [
    "s = b'Gr\\xc3\\xb6n'\n",
    "print('\\nGreen String:', s.decode('utf-8'))\n",
    "\n",
    "s = 'Gr\\N{LATIN SMALL LETTER O WITH DIAERESIS}n'\n",
    "print('Green string:',s)\n"
   ]
  }
 ],
 "metadata": {
  "kernelspec": {
   "display_name": "Python 3",
   "language": "python",
   "name": "python3"
  },
  "language_info": {
   "codemirror_mode": {
    "name": "ipython",
    "version": 3
   },
   "file_extension": ".py",
   "mimetype": "text/x-python",
   "name": "python",
   "nbconvert_exporter": "python",
   "pygments_lexer": "ipython3",
   "version": "3.6.3"
  }
 },
 "nbformat": 4,
 "nbformat_minor": 2
}
